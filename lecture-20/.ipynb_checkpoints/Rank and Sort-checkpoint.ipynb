{
 "cells": [
  {
   "cell_type": "code",
   "execution_count": 1,
   "id": "ce9df475",
   "metadata": {},
   "outputs": [],
   "source": [
    "import numpy as np\n",
    "import pandas as pd \n",
    "from pandas import Series, DataFrame"
   ]
  },
  {
   "cell_type": "code",
   "execution_count": 2,
   "id": "8bd1f02a",
   "metadata": {},
   "outputs": [
    {
     "data": {
      "text/plain": [
       "C    0\n",
       "A    1\n",
       "B    2\n",
       "dtype: int64"
      ]
     },
     "execution_count": 2,
     "metadata": {},
     "output_type": "execute_result"
    }
   ],
   "source": [
    "ser1 = Series(range(3), index = ['C', 'A', 'B'])\n",
    "ser1"
   ]
  },
  {
   "cell_type": "code",
   "execution_count": 3,
   "id": "24f79fcd",
   "metadata": {},
   "outputs": [
    {
     "data": {
      "text/plain": [
       "A    1\n",
       "B    2\n",
       "C    0\n",
       "dtype: int64"
      ]
     },
     "execution_count": 3,
     "metadata": {},
     "output_type": "execute_result"
    }
   ],
   "source": [
    "ser1.sort_index()"
   ]
  },
  {
   "cell_type": "code",
   "execution_count": 15,
   "id": "e6fcd9fe",
   "metadata": {},
   "outputs": [
    {
     "ename": "AttributeError",
     "evalue": "'Series' object has no attribute 'order'",
     "output_type": "error",
     "traceback": [
      "\u001b[0;31m---------------------------------------------------------------------------\u001b[0m",
      "\u001b[0;31mAttributeError\u001b[0m                            Traceback (most recent call last)",
      "\u001b[0;32m/var/folders/3f/9w84g7_s1c72ppx5y69m161r0000gn/T/ipykernel_40434/1812468344.py\u001b[0m in \u001b[0;36m<module>\u001b[0;34m\u001b[0m\n\u001b[0;32m----> 1\u001b[0;31m \u001b[0mser1\u001b[0m\u001b[0;34m.\u001b[0m\u001b[0morder\u001b[0m\u001b[0;34m(\u001b[0m\u001b[0;34m)\u001b[0m\u001b[0;34m\u001b[0m\u001b[0;34m\u001b[0m\u001b[0m\n\u001b[0m",
      "\u001b[0;32m~/opt/anaconda3/lib/python3.9/site-packages/pandas/core/generic.py\u001b[0m in \u001b[0;36m__getattr__\u001b[0;34m(self, name)\u001b[0m\n\u001b[1;32m   5485\u001b[0m         ):\n\u001b[1;32m   5486\u001b[0m             \u001b[0;32mreturn\u001b[0m \u001b[0mself\u001b[0m\u001b[0;34m[\u001b[0m\u001b[0mname\u001b[0m\u001b[0;34m]\u001b[0m\u001b[0;34m\u001b[0m\u001b[0;34m\u001b[0m\u001b[0m\n\u001b[0;32m-> 5487\u001b[0;31m         \u001b[0;32mreturn\u001b[0m \u001b[0mobject\u001b[0m\u001b[0;34m.\u001b[0m\u001b[0m__getattribute__\u001b[0m\u001b[0;34m(\u001b[0m\u001b[0mself\u001b[0m\u001b[0;34m,\u001b[0m \u001b[0mname\u001b[0m\u001b[0;34m)\u001b[0m\u001b[0;34m\u001b[0m\u001b[0;34m\u001b[0m\u001b[0m\n\u001b[0m\u001b[1;32m   5488\u001b[0m \u001b[0;34m\u001b[0m\u001b[0m\n\u001b[1;32m   5489\u001b[0m     \u001b[0;32mdef\u001b[0m \u001b[0m__setattr__\u001b[0m\u001b[0;34m(\u001b[0m\u001b[0mself\u001b[0m\u001b[0;34m,\u001b[0m \u001b[0mname\u001b[0m\u001b[0;34m:\u001b[0m \u001b[0mstr\u001b[0m\u001b[0;34m,\u001b[0m \u001b[0mvalue\u001b[0m\u001b[0;34m)\u001b[0m \u001b[0;34m->\u001b[0m \u001b[0;32mNone\u001b[0m\u001b[0;34m:\u001b[0m\u001b[0;34m\u001b[0m\u001b[0;34m\u001b[0m\u001b[0m\n",
      "\u001b[0;31mAttributeError\u001b[0m: 'Series' object has no attribute 'order'"
     ]
    }
   ],
   "source": [
    "ser1.order()"
   ]
  },
  {
   "cell_type": "code",
   "execution_count": 8,
   "id": "83b22c3c",
   "metadata": {},
   "outputs": [],
   "source": [
    "from numpy.random import randn"
   ]
  },
  {
   "cell_type": "code",
   "execution_count": 9,
   "id": "794bc14a",
   "metadata": {},
   "outputs": [],
   "source": [
    "ser2 = Series(randn(10))"
   ]
  },
  {
   "cell_type": "code",
   "execution_count": 10,
   "id": "e51198e3",
   "metadata": {},
   "outputs": [
    {
     "data": {
      "text/plain": [
       "0   -0.213797\n",
       "1   -1.515561\n",
       "2    0.535532\n",
       "3    1.402326\n",
       "4    0.086610\n",
       "5   -1.754144\n",
       "6   -0.014108\n",
       "7   -1.627109\n",
       "8    0.312639\n",
       "9   -0.916710\n",
       "dtype: float64"
      ]
     },
     "execution_count": 10,
     "metadata": {},
     "output_type": "execute_result"
    }
   ],
   "source": [
    "ser2"
   ]
  },
  {
   "cell_type": "code",
   "execution_count": 12,
   "id": "0dd7144a",
   "metadata": {},
   "outputs": [
    {
     "data": {
      "text/plain": [
       "5   -1.754144\n",
       "7   -1.627109\n",
       "1   -1.515561\n",
       "9   -0.916710\n",
       "0   -0.213797\n",
       "6   -0.014108\n",
       "4    0.086610\n",
       "8    0.312639\n",
       "2    0.535532\n",
       "3    1.402326\n",
       "dtype: float64"
      ]
     },
     "execution_count": 12,
     "metadata": {},
     "output_type": "execute_result"
    }
   ],
   "source": [
    "ser2.sort_values()"
   ]
  },
  {
   "cell_type": "code",
   "execution_count": 16,
   "id": "04e91129",
   "metadata": {},
   "outputs": [
    {
     "data": {
      "text/plain": [
       "0   -0.213797\n",
       "1   -1.515561\n",
       "2    0.535532\n",
       "3    1.402326\n",
       "4    0.086610\n",
       "5   -1.754144\n",
       "6   -0.014108\n",
       "7   -1.627109\n",
       "8    0.312639\n",
       "9   -0.916710\n",
       "dtype: float64"
      ]
     },
     "execution_count": 16,
     "metadata": {},
     "output_type": "execute_result"
    }
   ],
   "source": [
    "ser2"
   ]
  },
  {
   "cell_type": "code",
   "execution_count": 20,
   "id": "8ddbe20a",
   "metadata": {},
   "outputs": [
    {
     "data": {
      "text/plain": [
       "0     5.0\n",
       "1     3.0\n",
       "2     9.0\n",
       "3    10.0\n",
       "4     7.0\n",
       "5     1.0\n",
       "6     6.0\n",
       "7     2.0\n",
       "8     8.0\n",
       "9     4.0\n",
       "dtype: float64"
      ]
     },
     "execution_count": 20,
     "metadata": {},
     "output_type": "execute_result"
    }
   ],
   "source": [
    "ser2.rank()"
   ]
  },
  {
   "cell_type": "code",
   "execution_count": 21,
   "id": "7c1cf9db",
   "metadata": {},
   "outputs": [
    {
     "data": {
      "text/plain": [
       "0   -0.054947\n",
       "1    0.122578\n",
       "2    1.173859\n",
       "3   -0.291655\n",
       "4   -0.091166\n",
       "5   -0.258135\n",
       "6    2.418992\n",
       "7   -1.211606\n",
       "8   -1.182630\n",
       "9   -0.816045\n",
       "dtype: float64"
      ]
     },
     "execution_count": 21,
     "metadata": {},
     "output_type": "execute_result"
    }
   ],
   "source": [
    "ser3 = Series(randn(10))\n",
    "ser3"
   ]
  },
  {
   "cell_type": "code",
   "execution_count": 22,
   "id": "0bc2efb5",
   "metadata": {},
   "outputs": [
    {
     "data": {
      "text/plain": [
       "0     7.0\n",
       "1     8.0\n",
       "2     9.0\n",
       "3     4.0\n",
       "4     6.0\n",
       "5     5.0\n",
       "6    10.0\n",
       "7     1.0\n",
       "8     2.0\n",
       "9     3.0\n",
       "dtype: float64"
      ]
     },
     "execution_count": 22,
     "metadata": {},
     "output_type": "execute_result"
    }
   ],
   "source": [
    "ser3.rank()"
   ]
  },
  {
   "cell_type": "code",
   "execution_count": 25,
   "id": "f602d1c0",
   "metadata": {},
   "outputs": [
    {
     "data": {
      "text/plain": [
       "7     1.0\n",
       "8     2.0\n",
       "9     3.0\n",
       "3     4.0\n",
       "5     5.0\n",
       "4     6.0\n",
       "0     7.0\n",
       "1     8.0\n",
       "2     9.0\n",
       "6    10.0\n",
       "dtype: float64"
      ]
     },
     "execution_count": 25,
     "metadata": {},
     "output_type": "execute_result"
    }
   ],
   "source": [
    "ser3.sort_values().rank()"
   ]
  },
  {
   "cell_type": "code",
   "execution_count": 26,
   "id": "348c90e6",
   "metadata": {},
   "outputs": [
    {
     "data": {
      "text/plain": [
       "0   -0.054947\n",
       "1    0.122578\n",
       "2    1.173859\n",
       "3   -0.291655\n",
       "4   -0.091166\n",
       "5   -0.258135\n",
       "6    2.418992\n",
       "7   -1.211606\n",
       "8   -1.182630\n",
       "9   -0.816045\n",
       "dtype: float64"
      ]
     },
     "execution_count": 26,
     "metadata": {},
     "output_type": "execute_result"
    }
   ],
   "source": [
    "ser3"
   ]
  },
  {
   "cell_type": "code",
   "execution_count": null,
   "id": "f8e90068",
   "metadata": {},
   "outputs": [],
   "source": []
  }
 ],
 "metadata": {
  "kernelspec": {
   "display_name": "Python 3 (ipykernel)",
   "language": "python",
   "name": "python3"
  },
  "language_info": {
   "codemirror_mode": {
    "name": "ipython",
    "version": 3
   },
   "file_extension": ".py",
   "mimetype": "text/x-python",
   "name": "python",
   "nbconvert_exporter": "python",
   "pygments_lexer": "ipython3",
   "version": "3.9.7"
  }
 },
 "nbformat": 4,
 "nbformat_minor": 5
}
